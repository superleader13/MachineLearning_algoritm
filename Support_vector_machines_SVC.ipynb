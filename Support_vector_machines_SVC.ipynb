{
 "cells": [
  {
   "cell_type": "code",
   "execution_count": null,
   "id": "8d419792",
   "metadata": {},
   "outputs": [],
   "source": [
    "import numpy as np\n",
    "import pandas as pd\n",
    "import seaborn as sns\n",
    "import matplotlib.pyplot as plt\n",
    "from sklearn.model_selection import train_test_split\n",
    "from sklearn.svm import SVC\n",
    "from sklearn.metrics import accuracy_score, classification_report, precision_score"
   ]
  },
  {
   "cell_type": "code",
   "execution_count": null,
   "id": "9aaa3413",
   "metadata": {},
   "outputs": [],
   "source": [
    "df = pd.read_csv(\"Social_Network_Ads.csv\")\n",
    "df.head(3)"
   ]
  },
  {
   "cell_type": "code",
   "execution_count": null,
   "id": "e71d308b",
   "metadata": {},
   "outputs": [],
   "source": [
    "df.drop ('User ID', axis = 1, inplace=True) #buat drop colum\n",
    "\n",
    "#ubah string jadi nomer\n",
    "label = {'Male' : 0, 'Female' : 1}\n",
    "df['Gender'].replace(label, inplace=True)\n",
    "\n",
    "#lihat jumlah Gender\n",
    "#df['Gender'].value_counts()"
   ]
  },
  {
   "cell_type": "code",
   "execution_count": 4,
   "id": "0ed4e257",
   "metadata": {},
   "outputs": [
    {
     "data": {
      "image/png": "[encoded data removed]",
      "text/plain": [
       "<Figure size 720x216 with 1 Axes>"
      ]
     },
     "metadata": {
      "needs_background": "light"
     },
     "output_type": "display_data"
    }
   ],
   "source": [
    "# grafik visualisasi target\n",
    "\n",
    "plt.figure(figsize=(10, 3))\n",
    "sns.countplot(x = \"Purchased\",data=df, palette=\"Set1\")\n",
    "plt.show()"
   ]
  },
  {
   "cell_type": "code",
   "execution_count": 5,
   "id": "3f5652c5",
   "metadata": {},
   "outputs": [
    {
     "data": {
      "text/plain": [
       "0      0\n",
       "1      0\n",
       "2      0\n",
       "3      0\n",
       "4      0\n",
       "      ..\n",
       "395    1\n",
       "396    1\n",
       "397    1\n",
       "398    0\n",
       "399    1\n",
       "Name: Purchased, Length: 400, dtype: int64"
      ]
     },
     "execution_count": 5,
     "metadata": {},
     "output_type": "execute_result"
    }
   ],
   "source": [
    "baris,kolom = df.shape\n",
    "kolom = kolom\n",
    "atribut = df.iloc[:,1:kolom]\n",
    "target = df.iloc[:,3]\n",
    "\n",
    "\n",
    "xtrain,xtest,ytrain,ytest = train_test_split(atribut,target,test_size=0.02,random_state=0)\n",
    "target"
   ]
  },
  {
   "cell_type": "code",
   "execution_count": null,
   "id": "9e52f47c",
   "metadata": {},
   "outputs": [],
   "source": [
    "#mendefinisikan model\n",
    "klasifikasi_svc = SVC(kernel='linear',random_state=0)\n",
    "\n",
    "#training \n",
    "klasifikasi_svc.fit(xtrain,ytrain)"
   ]
  },
  {
   "cell_type": "code",
   "execution_count": null,
   "id": "12988976",
   "metadata": {},
   "outputs": [],
   "source": [
    "#melakukan prediksi pada data testing\n",
    "prediksi=model.predict(xtest)\n",
    "print(\">> data testing :\")\n",
    "print (xtest[:5])\n",
    "print()\n",
    "print(\">> Purchased prediksi :\",prediksi[:5])\n",
    "print()\n",
    "print(\">> Test set Accuracy: \", round(accuracy_score(ytest,prediksi),2))"
   ]
  },
  {
   "cell_type": "code",
   "execution_count": null,
   "id": "2577d145",
   "metadata": {},
   "outputs": [],
   "source": []
  }
 ],
 "metadata": {
  "kernelspec": {
   "display_name": "Python 3",
   "language": "python",
   "name": "python3"
  },
  "language_info": {
   "codemirror_mode": {
    "name": "ipython",
    "version": 3
   },
   "file_extension": ".py",
   "mimetype": "text/x-python",
   "name": "python",
   "nbconvert_exporter": "python",
   "pygments_lexer": "ipython3",
   "version": "3.8.8"
  }
 },
 "nbformat": 4,
 "nbformat_minor": 5
}
